{
 "cells": [
  {
   "cell_type": "code",
   "execution_count": 1,
   "metadata": {},
   "outputs": [
    {
     "name": "stderr",
     "output_type": "stream",
     "text": [
      "C:\\Users\\Shahrukh\\anaconda3\\lib\\site-packages\\gensim\\similarities\\__init__.py:15: UserWarning: The gensim.similarities.levenshtein submodule is disabled, because the optional Levenshtein package <https://pypi.org/project/python-Levenshtein/> is unavailable. Install Levenhstein (e.g. `pip install python-Levenshtein`) to suppress this warning.\n",
      "  warnings.warn(msg)\n"
     ]
    }
   ],
   "source": [
    "import pandas as pd\n",
    "import numpy as np\n",
    "from collections import Counter\n",
    "import re\n",
    "import string\n",
    "\n",
    "import nltk\n",
    "from nltk.corpus import stopwords\n",
    "from nltk.stem.wordnet import WordNetLemmatizer\n",
    "from sklearn.preprocessing import LabelEncoder\n",
    "\n",
    "import gensim\n",
    "from gensim import corpora\n",
    "from gensim.models.ldamulticore import LdaMulticore\n",
    "from gensim.models.coherencemodel import CoherenceModel\n",
    "\n",
    "from sklearn.decomposition import LatentDirichletAllocation\n",
    "from sklearn.feature_extraction.text import CountVectorizer\n",
    "from sklearn.ensemble import RandomForestClassifier, AdaBoostClassifier\n",
    "from sklearn.linear_model import LogisticRegression\n",
    "from sklearn.model_selection import GridSearchCV\n",
    "\n",
    "import matplotlib.pyplot as plt\n",
    "import seaborn as sns\n",
    "%matplotlib inline"
   ]
  },
  {
   "cell_type": "code",
   "execution_count": 2,
   "metadata": {},
   "outputs": [],
   "source": [
    "train = pd.read_csv('datasets/BBC News Split Dataset/BBC News Train.csv')\n",
    "test = pd.read_csv('datasets/BBC News Split Dataset/BBC News Test.csv')"
   ]
  },
  {
   "cell_type": "code",
   "execution_count": 3,
   "metadata": {},
   "outputs": [
    {
     "data": {
      "text/html": [
       "<div>\n",
       "<style scoped>\n",
       "    .dataframe tbody tr th:only-of-type {\n",
       "        vertical-align: middle;\n",
       "    }\n",
       "\n",
       "    .dataframe tbody tr th {\n",
       "        vertical-align: top;\n",
       "    }\n",
       "\n",
       "    .dataframe thead th {\n",
       "        text-align: right;\n",
       "    }\n",
       "</style>\n",
       "<table border=\"1\" class=\"dataframe\">\n",
       "  <thead>\n",
       "    <tr style=\"text-align: right;\">\n",
       "      <th></th>\n",
       "      <th>ArticleId</th>\n",
       "      <th>Text</th>\n",
       "      <th>Category</th>\n",
       "    </tr>\n",
       "  </thead>\n",
       "  <tbody>\n",
       "    <tr>\n",
       "      <th>0</th>\n",
       "      <td>1833</td>\n",
       "      <td>worldcom ex-boss launches defence lawyers defe...</td>\n",
       "      <td>business</td>\n",
       "    </tr>\n",
       "    <tr>\n",
       "      <th>1</th>\n",
       "      <td>154</td>\n",
       "      <td>german business confidence slides german busin...</td>\n",
       "      <td>business</td>\n",
       "    </tr>\n",
       "    <tr>\n",
       "      <th>2</th>\n",
       "      <td>1101</td>\n",
       "      <td>bbc poll indicates economic gloom citizens in ...</td>\n",
       "      <td>business</td>\n",
       "    </tr>\n",
       "    <tr>\n",
       "      <th>3</th>\n",
       "      <td>1976</td>\n",
       "      <td>lifestyle  governs mobile choice  faster  bett...</td>\n",
       "      <td>tech</td>\n",
       "    </tr>\n",
       "    <tr>\n",
       "      <th>4</th>\n",
       "      <td>917</td>\n",
       "      <td>enron bosses in $168m payout eighteen former e...</td>\n",
       "      <td>business</td>\n",
       "    </tr>\n",
       "  </tbody>\n",
       "</table>\n",
       "</div>"
      ],
      "text/plain": [
       "   ArticleId                                               Text  Category\n",
       "0       1833  worldcom ex-boss launches defence lawyers defe...  business\n",
       "1        154  german business confidence slides german busin...  business\n",
       "2       1101  bbc poll indicates economic gloom citizens in ...  business\n",
       "3       1976  lifestyle  governs mobile choice  faster  bett...      tech\n",
       "4        917  enron bosses in $168m payout eighteen former e...  business"
      ]
     },
     "execution_count": 3,
     "metadata": {},
     "output_type": "execute_result"
    }
   ],
   "source": [
    "train.head()"
   ]
  },
  {
   "cell_type": "code",
   "execution_count": 4,
   "metadata": {},
   "outputs": [
    {
     "name": "stdout",
     "output_type": "stream",
     "text": [
      "train: (1490, 3)\n",
      "test: (735, 2)\n"
     ]
    }
   ],
   "source": [
    "print('train:', train.shape)\n",
    "print('test:', test.shape)"
   ]
  },
  {
   "cell_type": "code",
   "execution_count": 5,
   "metadata": {},
   "outputs": [
    {
     "data": {
      "text/plain": [
       "ArticleId    0\n",
       "Text         0\n",
       "Category     0\n",
       "dtype: int64"
      ]
     },
     "execution_count": 5,
     "metadata": {},
     "output_type": "execute_result"
    }
   ],
   "source": [
    "train.isnull().sum()"
   ]
  },
  {
   "cell_type": "code",
   "execution_count": 6,
   "metadata": {},
   "outputs": [
    {
     "name": "stdout",
     "output_type": "stream",
     "text": [
      "sport            346\n",
      "business         336\n",
      "politics         274\n",
      "entertainment    273\n",
      "tech             261\n",
      "Name: Category, dtype: int64\n"
     ]
    },
    {
     "data": {
      "text/plain": [
       "<matplotlib.axes._subplots.AxesSubplot at 0x2888c8fee08>"
      ]
     },
     "execution_count": 6,
     "metadata": {},
     "output_type": "execute_result"
    },
    {
     "data": {
      "image/png": "[encoded data removed]",
      "text/plain": [
       "<Figure size 432x288 with 1 Axes>"
      ]
     },
     "metadata": {
      "needs_background": "light"
     },
     "output_type": "display_data"
    }
   ],
   "source": [
    "print(train['Category'].value_counts())\n",
    "train['Category'].value_counts().plot.bar(ylim=0)"
   ]
  },
  {
   "cell_type": "code",
   "execution_count": 6,
   "metadata": {},
   "outputs": [
    {
     "name": "stdout",
     "output_type": "stream",
     "text": [
      "Replaced 924 words with characters with an ordinal >= 128 in the train data.\n",
      "top 5 non_ascii_words: ['(£5.7bn)' '(£89m)' '(£378.8m)' '(£23.2m)' '(£9.9m)']\n"
     ]
    }
   ],
   "source": [
    "our_special_word = 'qwerty'\n",
    "\n",
    "def remove_ascii_words(df):\n",
    "    non_ascii_words = []\n",
    "    for i in range(len(df)):\n",
    "        for word in df.loc[i, 'Text'].split(' '):\n",
    "            if any([ord(character) >= 128 for character in word]):\n",
    "                non_ascii_words.append(word)\n",
    "                df.loc[i, 'Text'] = df.loc[i, 'Text'].replace(word, our_special_word)\n",
    "    return non_ascii_words\n",
    "\n",
    "non_ascii_words = remove_ascii_words(train)\n",
    "\n",
    "print('Replaced {} words with characters with an ordinal >= 128 in the train data.'.format(len(non_ascii_words)))\n",
    "print('top 5 non_ascii_words:', np.array(non_ascii_words[:5]).T)"
   ]
  },
  {
   "cell_type": "code",
   "execution_count": 7,
   "metadata": {},
   "outputs": [],
   "source": [
    "def clean(text):\n",
    "    stop = stopwords.words('english')\n",
    "    stop.append(our_special_word)\n",
    "    exclude = set(string.punctuation)\n",
    "    lemma = WordNetLemmatizer()\n",
    "    \n",
    "    stop_free = ' '.join([word for word in text.split() if word not in (stop)])\n",
    "    punc_free = ''.join(ch for ch in stop_free if ch not in exclude)\n",
    "    normalized = ' '.join([lemma.lemmatize(word, 'v') for word in punc_free.split()])\n",
    "    return normalized.lower()"
   ]
  },
  {
   "cell_type": "code",
   "execution_count": 8,
   "metadata": {},
   "outputs": [],
   "source": [
    "train['clean_text'] = train['Text'].apply(clean)"
   ]
  },
  {
   "cell_type": "code",
   "execution_count": 9,
   "metadata": {},
   "outputs": [],
   "source": [
    "train['tokenized_text'] = list(map(nltk.word_tokenize, train.clean_text))"
   ]
  },
  {
   "cell_type": "code",
   "execution_count": 11,
   "metadata": {},
   "outputs": [
    {
     "data": {
      "text/html": [
       "<div>\n",
       "<style scoped>\n",
       "    .dataframe tbody tr th:only-of-type {\n",
       "        vertical-align: middle;\n",
       "    }\n",
       "\n",
       "    .dataframe tbody tr th {\n",
       "        vertical-align: top;\n",
       "    }\n",
       "\n",
       "    .dataframe thead th {\n",
       "        text-align: right;\n",
       "    }\n",
       "</style>\n",
       "<table border=\"1\" class=\"dataframe\">\n",
       "  <thead>\n",
       "    <tr style=\"text-align: right;\">\n",
       "      <th></th>\n",
       "      <th>ArticleId</th>\n",
       "      <th>Text</th>\n",
       "      <th>Category</th>\n",
       "      <th>clean_text</th>\n",
       "      <th>tokenized_text</th>\n",
       "    </tr>\n",
       "  </thead>\n",
       "  <tbody>\n",
       "    <tr>\n",
       "      <th>0</th>\n",
       "      <td>1833</td>\n",
       "      <td>worldcom ex-boss launches defence lawyers defe...</td>\n",
       "      <td>business</td>\n",
       "      <td>worldcom exboss launch defence lawyers defend ...</td>\n",
       "      <td>[worldcom, exboss, launch, defence, lawyers, d...</td>\n",
       "    </tr>\n",
       "    <tr>\n",
       "      <th>1</th>\n",
       "      <td>154</td>\n",
       "      <td>german business confidence slides german busin...</td>\n",
       "      <td>business</td>\n",
       "      <td>german business confidence slide german busine...</td>\n",
       "      <td>[german, business, confidence, slide, german, ...</td>\n",
       "    </tr>\n",
       "    <tr>\n",
       "      <th>2</th>\n",
       "      <td>1101</td>\n",
       "      <td>bbc poll indicates economic gloom citizens in ...</td>\n",
       "      <td>business</td>\n",
       "      <td>bbc poll indicate economic gloom citizens majo...</td>\n",
       "      <td>[bbc, poll, indicate, economic, gloom, citizen...</td>\n",
       "    </tr>\n",
       "    <tr>\n",
       "      <th>3</th>\n",
       "      <td>1976</td>\n",
       "      <td>lifestyle  governs mobile choice  faster  bett...</td>\n",
       "      <td>tech</td>\n",
       "      <td>lifestyle govern mobile choice faster better f...</td>\n",
       "      <td>[lifestyle, govern, mobile, choice, faster, be...</td>\n",
       "    </tr>\n",
       "    <tr>\n",
       "      <th>4</th>\n",
       "      <td>917</td>\n",
       "      <td>enron bosses in $168m payout eighteen former e...</td>\n",
       "      <td>business</td>\n",
       "      <td>enron boss 168m payout eighteen former enron d...</td>\n",
       "      <td>[enron, boss, 168m, payout, eighteen, former, ...</td>\n",
       "    </tr>\n",
       "  </tbody>\n",
       "</table>\n",
       "</div>"
      ],
      "text/plain": [
       "   ArticleId                                               Text  Category  \\\n",
       "0       1833  worldcom ex-boss launches defence lawyers defe...  business   \n",
       "1        154  german business confidence slides german busin...  business   \n",
       "2       1101  bbc poll indicates economic gloom citizens in ...  business   \n",
       "3       1976  lifestyle  governs mobile choice  faster  bett...      tech   \n",
       "4        917  enron bosses in $168m payout eighteen former e...  business   \n",
       "\n",
       "                                          clean_text  \\\n",
       "0  worldcom exboss launch defence lawyers defend ...   \n",
       "1  german business confidence slide german busine...   \n",
       "2  bbc poll indicate economic gloom citizens majo...   \n",
       "3  lifestyle govern mobile choice faster better f...   \n",
       "4  enron boss 168m payout eighteen former enron d...   \n",
       "\n",
       "                                      tokenized_text  \n",
       "0  [worldcom, exboss, launch, defence, lawyers, d...  \n",
       "1  [german, business, confidence, slide, german, ...  \n",
       "2  [bbc, poll, indicate, economic, gloom, citizen...  \n",
       "3  [lifestyle, govern, mobile, choice, faster, be...  \n",
       "4  [enron, boss, 168m, payout, eighteen, former, ...  "
      ]
     },
     "execution_count": 11,
     "metadata": {},
     "output_type": "execute_result"
    }
   ],
   "source": [
    "train.head()"
   ]
  },
  {
   "cell_type": "code",
   "execution_count": 12,
   "metadata": {},
   "outputs": [],
   "source": [
    "tokenized_only_dict = Counter(np.concatenate(train.tokenized_text.values))\n",
    "\n",
    "tokenized_only_df = pd.DataFrame.from_dict(tokenized_only_dict, orient='index')\n",
    "tokenized_only_df.rename(columns={0: 'count'}, inplace=True)"
   ]
  },
  {
   "cell_type": "code",
   "execution_count": 13,
   "metadata": {},
   "outputs": [],
   "source": [
    "tokenized_only_df.sort_values('count', ascending=False, inplace=True)"
   ]
  },
  {
   "cell_type": "code",
   "execution_count": 14,
   "metadata": {},
   "outputs": [
    {
     "data": {
      "image/png": "[encoded data removed]",
      "text/plain": [
       "<Figure size 1440x360 with 1 Axes>"
      ]
     },
     "metadata": {
      "needs_background": "light"
     },
     "output_type": "display_data"
    }
   ],
   "source": [
    "def word_frequency_barplot(df, nr_top_words=50):\n",
    "    fig, ax = plt.subplots(1,1,figsize=(20,5))\n",
    "\n",
    "    sns.barplot(list(range(nr_top_words)), df['count'].values[:nr_top_words], palette='hls', ax=ax)\n",
    "\n",
    "    ax.set_xticks(list(range(nr_top_words)))\n",
    "    ax.set_xticklabels(df.index[:nr_top_words], fontsize=14, rotation=90)\n",
    "    return ax\n",
    "    \n",
    "ax = word_frequency_barplot(tokenized_only_df)\n",
    "ax.set_title(\"Word Frequencies\", fontsize=16);"
   ]
  },
  {
   "cell_type": "code",
   "execution_count": 14,
   "metadata": {},
   "outputs": [
    {
     "name": "stdout",
     "output_type": "stream",
     "text": [
      "Found 22642 words.\n"
     ]
    }
   ],
   "source": [
    "dictionary = corpora.Dictionary(documents=train.tokenized_text.values)\n",
    "print(\"Found {} words.\".format(len(dictionary.values())))"
   ]
  },
  {
   "cell_type": "code",
   "execution_count": 15,
   "metadata": {},
   "outputs": [
    {
     "name": "stdout",
     "output_type": "stream",
     "text": [
      "Left with 8842 words.\n"
     ]
    }
   ],
   "source": [
    "dictionary.filter_extremes(no_above=0.8, no_below=3)\n",
    "dictionary.compactify()  # Reindexes the remaining words after filtering\n",
    "print(\"Left with {} words.\".format(len(dictionary.values())))"
   ]
  },
  {
   "cell_type": "code",
   "execution_count": 16,
   "metadata": {},
   "outputs": [],
   "source": [
    "doc_term_matrix = [dictionary.doc2bow(rev) for rev in train['tokenized_text']]"
   ]
  },
  {
   "cell_type": "code",
   "execution_count": 18,
   "metadata": {},
   "outputs": [],
   "source": [
    "cleansed_words_df = pd.DataFrame.from_dict(dictionary.token2id, orient='index')\n",
    "cleansed_words_df.rename(columns={0: 'id'}, inplace=True)\n",
    "\n",
    "cleansed_words_df['count'] = list(map(lambda id_: dictionary.dfs.get(id_), cleansed_words_df.id))\n",
    "del cleansed_words_df['id']"
   ]
  },
  {
   "cell_type": "code",
   "execution_count": 19,
   "metadata": {},
   "outputs": [],
   "source": [
    "cleansed_words_df.sort_values('count', ascending=False, inplace=True)"
   ]
  },
  {
   "cell_type": "code",
   "execution_count": 20,
   "metadata": {},
   "outputs": [
    {
     "data": {
      "image/png": "[encoded data removed]",
      "text/plain": [
       "<Figure size 1440x360 with 1 Axes>"
      ]
     },
     "metadata": {
      "needs_background": "light"
     },
     "output_type": "display_data"
    }
   ],
   "source": [
    "ax = word_frequency_barplot(cleansed_words_df)\n",
    "ax.set_title(\"Document Frequencies (Number of documents a word appears in)\", fontsize=16);"
   ]
  },
  {
   "cell_type": "code",
   "execution_count": 121,
   "metadata": {},
   "outputs": [],
   "source": [
    "def multi_LDA_coherence_values(dictionary, corpus, texts, limit, start=2, step=3):\n",
    "    coherence_scores = []\n",
    "    perplexity_scores = []\n",
    "    model_list = []\n",
    "    for num_topics in range(start, limit, step):\n",
    "        #model = gensim.models.ldamodel.LdaModel(corpus=corpus, num_topics=num_topics, id2word=dictionary)\n",
    "        model = LdaMulticore(corpus=corpus,id2word=dictionary,num_topics=num_topics,workers=4,chunksize=4000, passes=7, alpha='asymmetric')\n",
    "        model_list.append(model)\n",
    "        coherencemodel = CoherenceModel(model=model, texts=texts, dictionary=dictionary, coherence='c_v')\n",
    "        coherence_scores.append(coherencemodel.get_coherence())\n",
    "        perplexity_scores.append(np.exp2(-model.log_perplexity(corpus)))\n",
    "\n",
    "    return model_list, coherence_scores, perplexity_scores"
   ]
  },
  {
   "cell_type": "code",
   "execution_count": 126,
   "metadata": {},
   "outputs": [],
   "source": [
    "model_list, coherence_scores, perplexity_scores = multi_LDA_coherence_values(dictionary=dictionary, corpus=doc_term_matrix, texts=train.tokenized_text, start=5, limit=50, step=5)"
   ]
  },
  {
   "cell_type": "code",
   "execution_count": 128,
   "metadata": {},
   "outputs": [
    {
     "data": {
      "image/png": "[encoded data removed]",
      "text/plain": [
       "<Figure size 432x288 with 1 Axes>"
      ]
     },
     "metadata": {
      "needs_background": "light"
     },
     "output_type": "display_data"
    }
   ],
   "source": [
    "limit=50; start=5; step=5;\n",
    "x = range(start, limit, step)\n",
    "plt.plot(x, coherence_scores)\n",
    "plt.xlabel(\"Num Topics\")\n",
    "plt.ylabel(\"Coherence score\")\n",
    "plt.legend((\"coherence_scores\"), loc='best')\n",
    "plt.show()# Print the coherence scores"
   ]
  },
  {
   "cell_type": "code",
   "execution_count": 129,
   "metadata": {},
   "outputs": [
    {
     "data": {
      "image/png": "[encoded data removed]",
      "text/plain": [
       "<Figure size 432x288 with 1 Axes>"
      ]
     },
     "metadata": {
      "needs_background": "light"
     },
     "output_type": "display_data"
    }
   ],
   "source": [
    "limit=50; start=5; step=5;\n",
    "x = range(start, limit, step)\n",
    "plt.plot(x, perplexity_scores)\n",
    "plt.xlabel(\"Num Topics\")\n",
    "plt.ylabel(\"Perplexity score\")\n",
    "plt.legend((\"perplexity_scores\"), loc='best')\n",
    "plt.show()"
   ]
  },
  {
   "cell_type": "code",
   "execution_count": 134,
   "metadata": {},
   "outputs": [
    {
     "name": "stdout",
     "output_type": "stream",
     "text": [
      "Topic  5 ;  Coherence :  -2.6462025295177716   Perplexity :  -0.975771443852135   co-per :  -1.6704310856656366\n",
      "Topic  10 ;  Coherence :  0.4990265669880121   Perplexity :  -1.246488826799055   co-per :  1.745515393787067\n",
      "Topic  15 ;  Coherence :  0.4266649813264597   Perplexity :  -1.2354176089521325   co-per :  1.662082590278592\n",
      "Topic  20 ;  Coherence :  -0.19222204787114255   Perplexity :  -0.3707937317184606   co-per :  0.17857168384731803\n",
      "Topic  25 ;  Coherence :  0.3634111062225161   Perplexity :  -0.23358816223834855   co-per :  0.5969992684608647\n",
      "Topic  30 ;  Coherence :  0.014665663353051283   Perplexity :  0.5071854518298684   co-per :  -0.4925197884768171\n",
      "Topic  35 ;  Coherence :  0.9011722642987103   Perplexity :  0.7444606758432759   co-per :  0.15671158845543443\n",
      "Topic  40 ;  Coherence :  0.7552321265652144   Perplexity :  1.4922596620140023   co-per :  -0.7370275354487879\n",
      "Topic  45 ;  Coherence :  -0.12174813136506113   Perplexity :  1.318153983872977   co-per :  -1.4399021152380382\n",
      "Best number of topics found:  10\n"
     ]
    }
   ],
   "source": [
    "co_mean = np.mean(coherence_scores)\n",
    "co_std = np.std(coherence_scores)\n",
    "per_mean = np.mean(perplexity_scores)\n",
    "per_std = np.std(perplexity_scores)\n",
    "\n",
    "stan = []\n",
    "\n",
    "for i in range(len(coherence_scores)):\n",
    "    co_standard = (coherence_scores[i] - co_mean) / co_std\n",
    "    per_standard = (perplexity_scores[i] - per_mean) / per_std\n",
    "    print(\"Topic \", (i+1)*5, \";  Coherence : \", co_standard, \"  Perplexity : \", per_standard, \"  co-per : \", co_standard - per_standard)\n",
    "    stan.append(co_standard - per_standard)\n",
    "\n",
    "print(\"Best number of topics found: \", (stan.index(max(stan))+1)*5)"
   ]
  },
  {
   "cell_type": "markdown",
   "metadata": {},
   "source": [
    "### Using GridSearchCV to find best LDA Model"
   ]
  },
  {
   "cell_type": "code",
   "execution_count": 10,
   "metadata": {},
   "outputs": [],
   "source": [
    "vectorizer = CountVectorizer(analyzer='word',       \n",
    "                             min_df=3,                        # minimum reqd occurences of a word \n",
    "                             stop_words='english',             # remove stop words\n",
    "                             lowercase=True,                   # convert all words to lowercase\n",
    "                             token_pattern='[a-zA-Z0-9]{3,}',  # num chars > 3\n",
    "                             # max_features=50000,             # max number of uniq words\n",
    "                            )\n",
    "\n",
    "data_vectorized = vectorizer.fit_transform(train['clean_text'])"
   ]
  },
  {
   "cell_type": "code",
   "execution_count": 12,
   "metadata": {},
   "outputs": [
    {
     "data": {
      "text/plain": [
       "GridSearchCV(cv=None, error_score='raise',\n",
       "             estimator=LatentDirichletAllocation(batch_size=128,\n",
       "                                                 doc_topic_prior=None,\n",
       "                                                 evaluate_every=-1,\n",
       "                                                 learning_decay=0.7,\n",
       "                                                 learning_method='batch',\n",
       "                                                 learning_offset=10.0,\n",
       "                                                 max_doc_update_iter=100,\n",
       "                                                 max_iter=10,\n",
       "                                                 mean_change_tol=0.001,\n",
       "                                                 n_components=None, n_jobs=1,\n",
       "                                                 perp_tol=0.1,\n",
       "                                                 random_state=None,\n",
       "                                                 topic_word_prior=0.1,\n",
       "                                                 total_samples=1000000.0,\n",
       "                                                 verbose=0),\n",
       "             iid='deprecated', n_jobs=2,\n",
       "             param_grid={'doc_topic_prior': [0.5, 2, 5],\n",
       "                         'n_components': [10, 15, 20, 25, 30],\n",
       "                         'topic_word_prior': [0.1, 0.5, 2, 3.5]},\n",
       "             pre_dispatch='2*n_jobs', refit=True, return_train_score='warn',\n",
       "             scoring=None, verbose=0)"
      ]
     },
     "execution_count": 12,
     "metadata": {},
     "output_type": "execute_result"
    }
   ],
   "source": [
    "lda_CV = GridSearchCV(cv=None, error_score='raise',\n",
    "       estimator=LatentDirichletAllocation(learning_decay=0.7,n_components=None, topic_word_prior=0.1, n_jobs=1), n_jobs=2,\n",
    "       param_grid={'n_components': [10, 15, 20, 25, 30], 'doc_topic_prior': [0.5, 2, 5], 'topic_word_prior':[0.1, 0.5, 2, 3.5]}, \n",
    "       pre_dispatch='2*n_jobs', return_train_score='warn', verbose=0)\n",
    "\n",
    "lda_CV.fit(data_vectorized)"
   ]
  },
  {
   "cell_type": "code",
   "execution_count": 13,
   "metadata": {},
   "outputs": [
    {
     "name": "stdout",
     "output_type": "stream",
     "text": [
      "Best Model's Params:  {'doc_topic_prior': 0.5, 'n_components': 10, 'topic_word_prior': 0.5}\n",
      "Best Log Likelihood Score:  -462104.86509931536\n",
      "Model Perplexity:  2224.949648141915\n"
     ]
    }
   ],
   "source": [
    "best_lda_model = lda_CV.best_estimator_\n",
    "print(\"Best Model's Params: \", lda_CV.best_params_)\n",
    "print(\"Best Log Likelihood Score: \", lda_CV.best_score_)\n",
    "print(\"Model Perplexity: \", best_lda_model.perplexity(data_vectorized))"
   ]
  },
  {
   "cell_type": "markdown",
   "metadata": {},
   "source": [
    "### Classification"
   ]
  },
  {
   "cell_type": "code",
   "execution_count": 17,
   "metadata": {},
   "outputs": [
    {
     "name": "stdout",
     "output_type": "stream",
     "text": [
      "Wall time: 23.4 s\n"
     ]
    }
   ],
   "source": [
    "%%time\n",
    "num_topics = 10\n",
    "LDAmodel = LdaMulticore(corpus=doc_term_matrix,\n",
    "                        id2word=dictionary,\n",
    "                        num_topics=num_topics,\n",
    "                        workers=4,\n",
    "                        chunksize=4000,\n",
    "                        passes=7,\n",
    "                        alpha='symmetric')"
   ]
  },
  {
   "cell_type": "code",
   "execution_count": 66,
   "metadata": {},
   "outputs": [],
   "source": [
    "from gensim.test.utils import datapath\n",
    "# Save model to disk.\n",
    "temp_file = datapath(\"model\")\n",
    "LDAmodel.save(temp_file)\n",
    "\n",
    "#lda = LdaModel.load(temp_file)"
   ]
  },
  {
   "cell_type": "code",
   "execution_count": 18,
   "metadata": {},
   "outputs": [],
   "source": [
    "label_encoder = LabelEncoder()\n",
    "\n",
    "label_encoder.fit(train.Category)\n",
    "train['category_id'] = label_encoder.transform(train.Category)"
   ]
  },
  {
   "cell_type": "code",
   "execution_count": 19,
   "metadata": {},
   "outputs": [],
   "source": [
    "def document_to_lda_features(lda_model, document):\n",
    "    topic_importances = lda_model.get_document_topics(document, minimum_probability=0)\n",
    "    topic_importances = np.array(topic_importances)\n",
    "    return topic_importances[:,1]"
   ]
  },
  {
   "cell_type": "code",
   "execution_count": 29,
   "metadata": {},
   "outputs": [],
   "source": [
    "train['lda_features'] = list(map(lambda doc: document_to_lda_features(LDAmodel, doc), doc_term_matrix))\n",
    "X_train_lda = np.array(list(map(np.array, train.lda_features)))"
   ]
  },
  {
   "cell_type": "code",
   "execution_count": 176,
   "metadata": {},
   "outputs": [
    {
     "name": "stdout",
     "output_type": "stream",
     "text": [
      "Best Score: 0.8134228187919463\n",
      "Best Params: {'penalty': 'l2'}\n"
     ]
    }
   ],
   "source": [
    "lr = LogisticRegression(multi_class='multinomial')\n",
    "param_grid = {'penalty': ['l1', 'l2']}\n",
    "grid_cv = GridSearchCV(lr, param_grid=param_grid, cv=5, n_jobs=-1)\n",
    "best_model = grid_cv.fit(X_train_lda, train.category_id)\n",
    "\n",
    "print('Best Score:', best_model.best_score_)\n",
    "print('Best Params:', best_model.best_params_)"
   ]
  },
  {
   "cell_type": "code",
   "execution_count": 30,
   "metadata": {},
   "outputs": [
    {
     "data": {
      "text/plain": [
       "RandomForestClassifier(bootstrap=True, ccp_alpha=0.0, class_weight=None,\n",
       "                       criterion='gini', max_depth=None, max_features='auto',\n",
       "                       max_leaf_nodes=None, max_samples=None,\n",
       "                       min_impurity_decrease=0.0, min_impurity_split=None,\n",
       "                       min_samples_leaf=1, min_samples_split=2,\n",
       "                       min_weight_fraction_leaf=0.0, n_estimators=100,\n",
       "                       n_jobs=None, oob_score=False, random_state=None,\n",
       "                       verbose=0, warm_start=False)"
      ]
     },
     "execution_count": 30,
     "metadata": {},
     "output_type": "execute_result"
    }
   ],
   "source": [
    "rfc = RandomForestClassifier()\n",
    "rfc.fit(X_train_lda, train.category_id)"
   ]
  },
  {
   "cell_type": "markdown",
   "metadata": {},
   "source": [
    "### Making Predictions"
   ]
  },
  {
   "cell_type": "code",
   "execution_count": 31,
   "metadata": {},
   "outputs": [
    {
     "name": "stdout",
     "output_type": "stream",
     "text": [
      "Replaced 478 words with characters with an ordinal >= 128 in the train data.\n",
      "top 5 non_ascii_words: ['(£9.1bn;' '£35bn' '£4bn' '£50bn' '£8bn']\n"
     ]
    }
   ],
   "source": [
    "non_ascii_words = remove_ascii_words(test)\n",
    "\n",
    "print('Replaced {} words with characters with an ordinal >= 128 in the train data.'.format(len(non_ascii_words)))\n",
    "print('top 5 non_ascii_words:', np.array(non_ascii_words[:5]).T)"
   ]
  },
  {
   "cell_type": "code",
   "execution_count": 32,
   "metadata": {},
   "outputs": [],
   "source": [
    "test['clean_text'] = test['Text'].apply(clean)\n",
    "test['tokenized_text'] = list(map(nltk.word_tokenize, test.clean_text))"
   ]
  },
  {
   "cell_type": "code",
   "execution_count": 171,
   "metadata": {},
   "outputs": [
    {
     "data": {
      "text/html": [
       "<div>\n",
       "<style scoped>\n",
       "    .dataframe tbody tr th:only-of-type {\n",
       "        vertical-align: middle;\n",
       "    }\n",
       "\n",
       "    .dataframe tbody tr th {\n",
       "        vertical-align: top;\n",
       "    }\n",
       "\n",
       "    .dataframe thead th {\n",
       "        text-align: right;\n",
       "    }\n",
       "</style>\n",
       "<table border=\"1\" class=\"dataframe\">\n",
       "  <thead>\n",
       "    <tr style=\"text-align: right;\">\n",
       "      <th></th>\n",
       "      <th>ArticleId</th>\n",
       "      <th>Text</th>\n",
       "      <th>clean_text</th>\n",
       "      <th>tokenized_text</th>\n",
       "      <th>lda_features</th>\n",
       "    </tr>\n",
       "  </thead>\n",
       "  <tbody>\n",
       "    <tr>\n",
       "      <th>0</th>\n",
       "      <td>1018</td>\n",
       "      <td>qpr keeper day heads for preston queens park r...</td>\n",
       "      <td>qpr keeper day head preston queen park rangers...</td>\n",
       "      <td>[qpr, keeper, day, head, preston, queen, park,...</td>\n",
       "      <td>[0.002853119047358632, 0.0020755690056830645, ...</td>\n",
       "    </tr>\n",
       "    <tr>\n",
       "      <th>1</th>\n",
       "      <td>1319</td>\n",
       "      <td>software watching while you work software that...</td>\n",
       "      <td>software watch work software monitor every key...</td>\n",
       "      <td>[software, watch, work, software, monitor, eve...</td>\n",
       "      <td>[0.2948298752307892, 0.00072978570824489, 0.00...</td>\n",
       "    </tr>\n",
       "    <tr>\n",
       "      <th>2</th>\n",
       "      <td>1138</td>\n",
       "      <td>d arcy injury adds to ireland woe gordon d arc...</td>\n",
       "      <td>arcy injury add ireland woe gordon arcy rule i...</td>\n",
       "      <td>[arcy, injury, add, ireland, woe, gordon, arcy...</td>\n",
       "      <td>[0.0016041615745052695, 0.001185800414532423, ...</td>\n",
       "    </tr>\n",
       "    <tr>\n",
       "      <th>3</th>\n",
       "      <td>459</td>\n",
       "      <td>india s reliance family feud heats up the ongo...</td>\n",
       "      <td>india reliance family feud heat ongoing public...</td>\n",
       "      <td>[india, reliance, family, feud, heat, ongoing,...</td>\n",
       "      <td>[0.30077189207077026, 0.0011142214061692357, 0...</td>\n",
       "    </tr>\n",
       "    <tr>\n",
       "      <th>4</th>\n",
       "      <td>1020</td>\n",
       "      <td>boro suffer morrison injury blow middlesbrough...</td>\n",
       "      <td>boro suffer morrison injury blow middlesbrough...</td>\n",
       "      <td>[boro, suffer, morrison, injury, blow, middles...</td>\n",
       "      <td>[0.18789291381835938, 0.0024333116598427296, 0...</td>\n",
       "    </tr>\n",
       "  </tbody>\n",
       "</table>\n",
       "</div>"
      ],
      "text/plain": [
       "   ArticleId                                               Text  \\\n",
       "0       1018  qpr keeper day heads for preston queens park r...   \n",
       "1       1319  software watching while you work software that...   \n",
       "2       1138  d arcy injury adds to ireland woe gordon d arc...   \n",
       "3        459  india s reliance family feud heats up the ongo...   \n",
       "4       1020  boro suffer morrison injury blow middlesbrough...   \n",
       "\n",
       "                                          clean_text  \\\n",
       "0  qpr keeper day head preston queen park rangers...   \n",
       "1  software watch work software monitor every key...   \n",
       "2  arcy injury add ireland woe gordon arcy rule i...   \n",
       "3  india reliance family feud heat ongoing public...   \n",
       "4  boro suffer morrison injury blow middlesbrough...   \n",
       "\n",
       "                                      tokenized_text  \\\n",
       "0  [qpr, keeper, day, head, preston, queen, park,...   \n",
       "1  [software, watch, work, software, monitor, eve...   \n",
       "2  [arcy, injury, add, ireland, woe, gordon, arcy...   \n",
       "3  [india, reliance, family, feud, heat, ongoing,...   \n",
       "4  [boro, suffer, morrison, injury, blow, middles...   \n",
       "\n",
       "                                        lda_features  \n",
       "0  [0.002853119047358632, 0.0020755690056830645, ...  \n",
       "1  [0.2948298752307892, 0.00072978570824489, 0.00...  \n",
       "2  [0.0016041615745052695, 0.001185800414532423, ...  \n",
       "3  [0.30077189207077026, 0.0011142214061692357, 0...  \n",
       "4  [0.18789291381835938, 0.0024333116598427296, 0...  "
      ]
     },
     "execution_count": 171,
     "metadata": {},
     "output_type": "execute_result"
    }
   ],
   "source": [
    "test.head()"
   ]
  },
  {
   "cell_type": "code",
   "execution_count": 33,
   "metadata": {},
   "outputs": [],
   "source": [
    "test_doc_term_matrix = [dictionary.doc2bow(rev) for rev in test['tokenized_text']]"
   ]
  },
  {
   "cell_type": "code",
   "execution_count": 34,
   "metadata": {},
   "outputs": [],
   "source": [
    "test['lda_features'] = list(map(lambda doc: document_to_lda_features(LDAmodel, doc), test_doc_term_matrix))\n",
    "X_test_lda = np.array(list(map(np.array, test.lda_features)))"
   ]
  },
  {
   "cell_type": "code",
   "execution_count": 35,
   "metadata": {},
   "outputs": [],
   "source": [
    "predictions = rfc.predict(X_test_lda)"
   ]
  },
  {
   "cell_type": "code",
   "execution_count": 164,
   "metadata": {},
   "outputs": [],
   "source": [
    "predictions = best_model.predict(X_test_lda)"
   ]
  },
  {
   "cell_type": "code",
   "execution_count": 36,
   "metadata": {},
   "outputs": [],
   "source": [
    "predicted_labels = label_encoder.inverse_transform(predictions)"
   ]
  },
  {
   "cell_type": "code",
   "execution_count": 37,
   "metadata": {},
   "outputs": [],
   "source": [
    "test_labels = pd.read_csv('datasets/BBC News Split Dataset/BBC News Test Labels.csv')"
   ]
  },
  {
   "cell_type": "code",
   "execution_count": 38,
   "metadata": {},
   "outputs": [
    {
     "name": "stdout",
     "output_type": "stream",
     "text": [
      "Confusion matrix : \n",
      " [[39 25 22 36 25]\n",
      " [45 26 29 26 21]\n",
      " [39 33 16 36 23]\n",
      " [45 21 23 34 24]\n",
      " [36 25 34 31 21]]\n",
      "Classification report : \n",
      "                precision    recall  f1-score   support\n",
      "\n",
      "     business       0.19      0.27      0.22       147\n",
      "entertainment       0.20      0.18      0.19       147\n",
      "     politics       0.13      0.11      0.12       147\n",
      "        sport       0.21      0.23      0.22       147\n",
      "         tech       0.18      0.14      0.16       147\n",
      "\n",
      "     accuracy                           0.19       735\n",
      "    macro avg       0.18      0.19      0.18       735\n",
      " weighted avg       0.18      0.19      0.18       735\n",
      "\n"
     ]
    }
   ],
   "source": [
    "from sklearn.metrics import confusion_matrix\n",
    "from sklearn.metrics import classification_report\n",
    "matrix = confusion_matrix(test_labels.Category,predicted_labels)\n",
    "print('Confusion matrix : \\n',matrix)\n",
    "\n",
    "matrix = classification_report(test_labels.Category,predicted_labels)\n",
    "print('Classification report : \\n',matrix)"
   ]
  }
 ],
 "metadata": {
  "kernelspec": {
   "display_name": "Python 3",
   "language": "python",
   "name": "python3"
  },
  "language_info": {
   "codemirror_mode": {
    "name": "ipython",
    "version": 3
   },
   "file_extension": ".py",
   "mimetype": "text/x-python",
   "name": "python",
   "nbconvert_exporter": "python",
   "pygments_lexer": "ipython3",
   "version": "3.7.6"
  }
 },
 "nbformat": 4,
 "nbformat_minor": 4
}
